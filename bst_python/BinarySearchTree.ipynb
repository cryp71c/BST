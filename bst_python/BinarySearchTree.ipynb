{
 "cells": [
  {
   "cell_type": "code",
   "execution_count": 8,
   "metadata": {},
   "outputs": [],
   "source": [
    "class node:\n",
    "    def __init__(self, value):  ## Initialize Node Class with a value.\n",
    "        self.value = value  # Current Node Value\n",
    "        self.left = None    # Next node less in value than the current node\n",
    "        self.right = None   # Next node greater in value than the current node\n",
    "        self.current_depth = None # Depth of the current node\n",
    "        self.frequency = None\n",
    "\n",
    "    def insert(self, new_node, current_node=None): ## Insert Node into tree and/or start new tree with self as the root node\n",
    "        if current_node == None:  ## If there is no current_node, assume this node is the root node.\n",
    "            current_node = self   ## Set current node to self (i.e whatever value, left and right are at this node)\n",
    "            current_node.current_depth = 1 ## Set node depth to 1.. The root node\n",
    "\n",
    "        # According to the rules of Binary Trees, the right node will be of a greater value than the current node\n",
    "        if new_node.value > current_node.value:\n",
    "            if current_node.right == None:    ## if the node to the right is empty, place it in that position\n",
    "                new_node.current_depth = current_node.current_depth+1 ## Add 1 to depth of node as we are going one more deep\n",
    "                current_node.right = new_node ## set node right to the new node\n",
    "            else:\n",
    "                # Recursion with the next node if the node to the right is not open, keep going until finding a proper position.\n",
    "                new_node.current_depth = current_node.current_depth+1 ## Add 1 to depth of node as we are going one more deep\n",
    "                return self.insert(new_node=new_node,current_node=current_node.right)\n",
    "                    \n",
    "        # In the rulse of a Binary Tree, the left node will be of a lesser value than the current node\n",
    "        elif new_node.value < current_node.value:\n",
    "            if current_node.left == None:     ## if the node to the right is empty, place it in that position\n",
    "                new_node.current_depth = current_node.current_depth+1 ## Add 1 to depth of node as we are going one more deep\n",
    "                current_node.left = new_node  ## set node right to the new node\n",
    "            else:\n",
    "                new_node.current_depth = current_node.current_depth+1 ## Add 1 to depth of node as we are going one more deep\n",
    "                return self.insert(new_node=new_node, current_node=current_node.left)\n",
    "        \n",
    "        else:  ## Catch if value already exists in the tree.\n",
    "            print(f\"Value already in tree!! : {new_node.value}\")\n",
    "        \n"
   ]
  },
  {
   "cell_type": "code",
   "execution_count": 9,
   "metadata": {},
   "outputs": [],
   "source": [
    "root = node(value=20)\n",
    "\n",
    "root.insert(node(value=40))\n",
    "root.insert(node(value=10))\n",
    "root.insert(node(value=5))\n",
    "root.insert(node(value=7))   \n",
    "root.insert(node(value=13))"
   ]
  },
  {
   "cell_type": "code",
   "execution_count": 10,
   "metadata": {},
   "outputs": [
    {
     "name": "stdout",
     "output_type": "stream",
     "text": [
      "1\n",
      "2\n",
      "2\n",
      "3\n",
      "3\n",
      "4\n"
     ]
    }
   ],
   "source": [
    "print(root.current_depth)\n",
    "print(root.left.current_depth)\n",
    "print(root.right.current_depth)\n",
    "print(root.left.left.current_depth)\n",
    "print(root.left.right.current_depth)\n",
    "print(root.left.left.right.current_depth)"
   ]
  },
  {
   "cell_type": "code",
   "execution_count": null,
   "metadata": {},
   "outputs": [],
   "source": []
  }
 ],
 "metadata": {
  "kernelspec": {
   "display_name": "Python 3",
   "language": "python",
   "name": "python3"
  },
  "language_info": {
   "codemirror_mode": {
    "name": "ipython",
    "version": 3
   },
   "file_extension": ".py",
   "mimetype": "text/x-python",
   "name": "python",
   "nbconvert_exporter": "python",
   "pygments_lexer": "ipython3",
   "version": "3.10.6"
  },
  "orig_nbformat": 4
 },
 "nbformat": 4,
 "nbformat_minor": 2
}
